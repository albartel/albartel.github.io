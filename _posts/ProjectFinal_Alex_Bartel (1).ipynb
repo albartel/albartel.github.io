{
 "cells": [
  {
   "cell_type": "code",
   "execution_count": 1,
   "id": "f63194f5-7511-40a0-a2b6-5084be30fc61",
   "metadata": {},
   "outputs": [],
   "source": [
    "import pandas as pd\n",
    "import os\n",
    "import tensorflow as tf\n",
    "import random\n",
    "import numpy as np\n",
    "from tensorflow.keras import layers, models\n",
    "import matplotlib.pyplot as plt\n",
    "\n",
    "# setting seeds for reproducibility\n",
    "seed = 1\n",
    "os.environ['PYTHONHASHSEED']=str(seed)\n",
    "os.environ['TF_CUDNN_DETERMINISTIC'] = '1'\n",
    "random.seed(seed)\n",
    "np.random.seed(seed)\n",
    "tf.random.set_seed(seed)"
   ]
  },
  {
   "cell_type": "code",
   "execution_count": 2,
   "id": "98df2a6f-2ad8-449f-8b01-9346d60af7c8",
   "metadata": {},
   "outputs": [
    {
     "name": "stdout",
     "output_type": "stream",
     "text": [
      "Images/ (0 files)\n",
      "    airport_inside/ (608 files)\n",
      "    artstudio/ (140 files)\n",
      "    auditorium/ (176 files)\n",
      "    bakery/ (405 files)\n",
      "    bar/ (604 files)\n",
      "    bathroom/ (197 files)\n",
      "    bedroom/ (662 files)\n",
      "    bookstore/ (380 files)\n",
      "    bowling/ (213 files)\n",
      "    buffet/ (111 files)\n",
      "    casino/ (515 files)\n",
      "    children_room/ (112 files)\n",
      "    church_inside/ (180 files)\n",
      "    classroom/ (113 files)\n",
      "    cloister/ (120 files)\n",
      "    closet/ (135 files)\n",
      "    clothingstore/ (106 files)\n",
      "    computerroom/ (114 files)\n",
      "    concert_hall/ (103 files)\n",
      "    corridor/ (346 files)\n",
      "    deli/ (258 files)\n",
      "    dentaloffice/ (131 files)\n",
      "    dining_room/ (274 files)\n",
      "    elevator/ (101 files)\n",
      "    fastfood_restaurant/ (116 files)\n",
      "    florist/ (103 files)\n",
      "    gameroom/ (127 files)\n",
      "    garage/ (103 files)\n",
      "    greenhouse/ (101 files)\n",
      "    grocerystore/ (213 files)\n",
      "    gym/ (231 files)\n",
      "    hairsalon/ (239 files)\n",
      "    hospitalroom/ (101 files)\n",
      "    inside_bus/ (102 files)\n",
      "    inside_subway/ (457 files)\n",
      "    jewelleryshop/ (157 files)\n",
      "    kindergarden/ (127 files)\n",
      "    kitchen/ (734 files)\n",
      "    laboratorywet/ (125 files)\n",
      "    laundromat/ (275 files)\n",
      "    library/ (107 files)\n",
      "    livingroom/ (706 files)\n",
      "    lobby/ (101 files)\n",
      "    locker_room/ (249 files)\n",
      "    mall/ (176 files)\n",
      "    meeting_room/ (233 files)\n",
      "    movietheater/ (175 files)\n",
      "    museum/ (168 files)\n",
      "    nursery/ (144 files)\n",
      "    office/ (109 files)\n",
      "    operating_room/ (135 files)\n",
      "    pantry/ (384 files)\n",
      "    poolinside/ (174 files)\n",
      "    prisoncell/ (103 files)\n",
      "    restaurant/ (513 files)\n",
      "    restaurant_kitchen/ (107 files)\n",
      "    shoeshop/ (116 files)\n",
      "    stairscase/ (155 files)\n",
      "    studiomusic/ (108 files)\n",
      "    subway/ (539 files)\n",
      "    toystore/ (347 files)\n",
      "    trainstation/ (153 files)\n",
      "    tv_studio/ (166 files)\n",
      "    videostore/ (110 files)\n",
      "    waitingroom/ (151 files)\n",
      "    warehouse/ (506 files)\n",
      "    winecellar/ (269 files)\n",
      "There are 15618 images in this dataset\n"
     ]
    }
   ],
   "source": [
    "import pathlib\n",
    "img_dir = 'C:\\\\Users\\\\adog1\\\\Documents\\\\Deep Learning\\\\Images'\n",
    "\n",
    "total_files = 0\n",
    "for root, dirs, files in os.walk(str(img_dir)):\n",
    "    level = root.replace(str(img_dir), '').count(os.sep)\n",
    "    indent = ' ' * 4 * (level)\n",
    "    print(f'{indent}{os.path.basename(root)}/ ({len(files)} files)')\n",
    "    total_files += len(files)\n",
    "print(f'There are {total_files -1} images in this dataset')"
   ]
  },
  {
   "cell_type": "code",
   "execution_count": 3,
   "id": "5819f407-76ce-4f7e-95ca-79aa110e30dd",
   "metadata": {},
   "outputs": [
    {
     "name": "stdout",
     "output_type": "stream",
     "text": [
      "\n",
      " The SORTED Indoor Image labels = ['airport_inside', 'artstudio', 'auditorium', 'bakery', 'bar', 'bathroom', 'bedroom', 'bookstore', 'bowling', 'buffet', 'casino', 'children_room', 'church_inside', 'classroom', 'cloister', 'closet', 'clothingstore', 'computerroom', 'concert_hall', 'corridor', 'deli', 'dentaloffice', 'dining_room', 'elevator', 'fastfood_restaurant', 'florist', 'gameroom', 'garage', 'greenhouse', 'grocerystore', 'gym', 'hairsalon', 'hospitalroom', 'inside_bus', 'inside_subway', 'jewelleryshop', 'kindergarden', 'kitchen', 'laboratorywet', 'laundromat', 'library', 'livingroom', 'lobby', 'locker_room', 'mall', 'meeting_room', 'movietheater', 'museum', 'nursery', 'office', 'operating_room', 'pantry', 'poolinside', 'prisoncell', 'restaurant', 'restaurant_kitchen', 'shoeshop', 'stairscase', 'studiomusic', 'subway', 'toystore', 'trainstation', 'tv_studio', 'videostore', 'waitingroom', 'warehouse', 'winecellar']\n",
      "\n",
      "There are 67 classes of Indoor Images.\n"
     ]
    }
   ],
   "source": [
    "IndoorImage_dir = [ name for name in list(os.listdir(img_dir)) if os.path.isdir(os.path.join(img_dir, name)) ]\n",
    "IndoorImage_dir.sort()   \n",
    "print(f'\\n The SORTED Indoor Image labels = {IndoorImage_dir}')\n",
    "print(f'\\nThere are {len(IndoorImage_dir)} classes of Indoor Images.') ### There are 38 (67) classes of Indoor Images."
   ]
  },
  {
   "cell_type": "markdown",
   "id": "7a1a7c09-965e-4523-a4a8-b1157f3295ac",
   "metadata": {},
   "source": [
    "### Removing Bad Images\n",
    "I removed one bad image using the code below to identify files that had issues, and now the empty string of bad paths shows that all files should be good."
   ]
  },
  {
   "cell_type": "code",
   "execution_count": 4,
   "id": "79a33628-cbb9-4d7b-a902-e2014d3b503f",
   "metadata": {},
   "outputs": [
    {
     "name": "stdout",
     "output_type": "stream",
     "text": [
      "BAD PATHS:\n"
     ]
    }
   ],
   "source": [
    "import glob\n",
    "img_paths = glob.glob(os.path.join(img_dir,'*/*.*')) # assuming you point to the directory containing the label folders.\n",
    "\n",
    "bad_paths = []\n",
    "\n",
    "for image_path in img_paths:\n",
    "    try:\n",
    "      img_bytes = tf.io.read_file(image_path)\n",
    "      decoded_img = tf.io.decode_image(img_bytes)\n",
    "    except tf.errors.InvalidArgumentError as e:\n",
    "      print(f\"Found bad path {image_path}...{e}\")\n",
    "      bad_paths.append(image_path)\n",
    "\n",
    "    #print(f\"{image_path}: OK\")\n",
    "\n",
    "print(\"BAD PATHS:\")\n",
    "for bad_path in bad_paths:\n",
    "    print(f\"{bad_path}\")"
   ]
  },
  {
   "cell_type": "markdown",
   "id": "b4f6f712-81e7-4b67-81c4-7269527513c9",
   "metadata": {},
   "source": [
    "### Preprocessing Images\n",
    "The following three code cells use the preprocessing library of keras to reduce the dimensionality of the images and split them into training and validation sets."
   ]
  },
  {
   "cell_type": "code",
   "execution_count": 5,
   "id": "42bd478b-4585-44c8-9669-75909750481f",
   "metadata": {},
   "outputs": [],
   "source": [
    "batch_size = 8\n",
    "img_height = 64\n",
    "img_width = 64\n",
    "split = 0.2"
   ]
  },
  {
   "cell_type": "code",
   "execution_count": 6,
   "id": "472db3c7-5d9f-482d-921a-a66d0918c403",
   "metadata": {},
   "outputs": [
    {
     "name": "stdout",
     "output_type": "stream",
     "text": [
      "Found 15619 files belonging to 67 classes.\n",
      "Using 12496 files for training.\n"
     ]
    }
   ],
   "source": [
    "train_img = tf.keras.preprocessing.image_dataset_from_directory(\n",
    "    img_dir,\n",
    "    labels=\"inferred\",\n",
    "    label_mode=\"int\",\n",
    "    class_names=None,\n",
    "    image_size=(img_height, img_width),\n",
    "    batch_size=batch_size,\n",
    "    seed=1,\n",
    "    validation_split=split,\n",
    "    subset=\"training\"\n",
    ")"
   ]
  },
  {
   "cell_type": "code",
   "execution_count": 7,
   "id": "a8229dac-a6b5-4d7a-9746-74f122ccc7ce",
   "metadata": {},
   "outputs": [
    {
     "name": "stdout",
     "output_type": "stream",
     "text": [
      "Found 15619 files belonging to 67 classes.\n",
      "Using 3123 files for validation.\n"
     ]
    }
   ],
   "source": [
    "val_img = tf.keras.preprocessing.image_dataset_from_directory(\n",
    "    img_dir,\n",
    "    labels=\"inferred\",\n",
    "    label_mode=\"int\",\n",
    "    class_names=None,\n",
    "    image_size=(img_height, img_width),\n",
    "    batch_size=batch_size,\n",
    "    seed=1,\n",
    "    validation_split=split,\n",
    "    subset=\"validation\"\n",
    ")"
   ]
  },
  {
   "cell_type": "code",
   "execution_count": 8,
   "id": "22144f57-bd42-4364-8799-6755f365ba83",
   "metadata": {},
   "outputs": [
    {
     "name": "stdout",
     "output_type": "stream",
     "text": [
      "image_batch.shape = (8, 64, 64, 3) \n",
      "labels_batch.shape = (8,) \n"
     ]
    }
   ],
   "source": [
    "for image_batch, labels_batch in train_img:\n",
    "  print(f'image_batch.shape = {image_batch.shape} \\nlabels_batch.shape = {labels_batch.shape } ')\n",
    "  break"
   ]
  },
  {
   "cell_type": "code",
   "execution_count": 9,
   "id": "4e85cbc5-82e3-4087-a496-2b1d1652f157",
   "metadata": {},
   "outputs": [],
   "source": [
    "# Apply caching, shuffle, and prefetch \n",
    "# to help increase speed, reduce memory usage, and make processing more efficient\n",
    "\n",
    "AUTOTUNE = tf.data.AUTOTUNE # Tune the value dynamically at runtime.\n",
    "\n",
    "train_img = train_img.cache().shuffle(1000).prefetch(buffer_size=AUTOTUNE)\n",
    "val_img = val_img.cache().prefetch(buffer_size=AUTOTUNE)"
   ]
  },
  {
   "cell_type": "code",
   "execution_count": 10,
   "id": "140b90c6-c525-4319-b146-07e3a69e5721",
   "metadata": {},
   "outputs": [],
   "source": [
    "normalization_layer = tf.keras.layers.experimental.preprocessing.Rescaling(1.0/255.0)"
   ]
  },
  {
   "cell_type": "code",
   "execution_count": 11,
   "id": "8840167d-59dd-4b77-8128-c2a57e191a08",
   "metadata": {},
   "outputs": [],
   "source": [
    "model = tf.keras.Sequential([\n",
    "normalization_layer,\n",
    "layers.Conv2D(32, (3, 3), activation='relu', input_shape=(64,64,3)),\n",
    "layers.MaxPooling2D(2, 2),\n",
    "layers.Conv2D(64, (3, 3), activation='relu'),\n",
    "layers.MaxPooling2D(2, 2),\n",
    "layers.Conv2D(64, (3, 3), activation='relu'),\n",
    "layers.Conv2D(64, (2, 2), activation='relu')\n",
    "])"
   ]
  },
  {
   "cell_type": "code",
   "execution_count": 12,
   "id": "f677a22f-7a87-4281-82f1-1f8f1a7eba4f",
   "metadata": {},
   "outputs": [],
   "source": [
    "# Convert  feature matrix from 4D to 2D\n",
    "model.add(layers.Flatten())\n",
    "model.add(layers.Dense(64, activation='relu'))\n",
    "# Add dropout layer\n",
    "model.add(layers.Dropout(0.2))\n",
    "# Final dense layer with a neuron for each possible outcome\n",
    "model.add(layers.Dense(67))"
   ]
  },
  {
   "cell_type": "code",
   "execution_count": 13,
   "id": "7fb5a177-6dcb-4f59-85c2-08c981049f95",
   "metadata": {},
   "outputs": [],
   "source": [
    "model.compile(optimizer='adam',\n",
    "              loss=tf.keras.losses.SparseCategoricalCrossentropy(from_logits=True),\n",
    "              metrics=['accuracy'])"
   ]
  },
  {
   "cell_type": "code",
   "execution_count": 14,
   "id": "cbfd7fe2-f130-4d9f-974a-99066a17943d",
   "metadata": {},
   "outputs": [
    {
     "name": "stdout",
     "output_type": "stream",
     "text": [
      "Epoch 1/100\n",
      "1562/1562 [==============================] - 67s 33ms/step - loss: 4.0372 - accuracy: 0.0443 - val_loss: 3.9949 - val_accuracy: 0.0503\n",
      "Epoch 2/100\n",
      "1562/1562 [==============================] - 49s 32ms/step - loss: 3.9022 - accuracy: 0.0699 - val_loss: 3.8027 - val_accuracy: 0.0730\n",
      "Epoch 3/100\n",
      "1562/1562 [==============================] - 49s 32ms/step - loss: 3.7740 - accuracy: 0.0780 - val_loss: 3.6868 - val_accuracy: 0.0945\n",
      "Epoch 4/100\n",
      "1562/1562 [==============================] - 48s 31ms/step - loss: 3.6760 - accuracy: 0.0952 - val_loss: 3.6224 - val_accuracy: 0.1098\n",
      "Epoch 5/100\n",
      "1562/1562 [==============================] - 45s 29ms/step - loss: 3.5959 - accuracy: 0.1085 - val_loss: 3.5456 - val_accuracy: 0.1146\n",
      "Epoch 6/100\n",
      "1562/1562 [==============================] - 44s 28ms/step - loss: 3.5134 - accuracy: 0.1224 - val_loss: 3.5024 - val_accuracy: 0.1246\n",
      "Epoch 7/100\n",
      "1562/1562 [==============================] - 44s 28ms/step - loss: 3.4360 - accuracy: 0.1385 - val_loss: 3.4014 - val_accuracy: 0.1463\n",
      "Epoch 8/100\n",
      "1562/1562 [==============================] - 44s 28ms/step - loss: 3.3204 - accuracy: 0.1537 - val_loss: 3.3693 - val_accuracy: 0.1502\n",
      "Epoch 9/100\n",
      "1562/1562 [==============================] - 44s 28ms/step - loss: 3.2180 - accuracy: 0.1692 - val_loss: 3.3392 - val_accuracy: 0.1627\n",
      "Epoch 10/100\n",
      "1562/1562 [==============================] - 45s 29ms/step - loss: 3.0860 - accuracy: 0.1974 - val_loss: 3.3831 - val_accuracy: 0.1473\n",
      "Epoch 11/100\n",
      "1562/1562 [==============================] - 45s 29ms/step - loss: 2.9512 - accuracy: 0.2208 - val_loss: 3.3721 - val_accuracy: 0.1607\n",
      "Epoch 12/100\n",
      "1562/1562 [==============================] - 48s 31ms/step - loss: 2.7882 - accuracy: 0.2550 - val_loss: 3.4604 - val_accuracy: 0.1540\n",
      "Epoch 13/100\n",
      "1562/1562 [==============================] - 49s 32ms/step - loss: 2.6277 - accuracy: 0.2781 - val_loss: 3.6329 - val_accuracy: 0.1572\n",
      "Epoch 14/100\n",
      "1562/1562 [==============================] - 52s 33ms/step - loss: 2.4746 - accuracy: 0.3134 - val_loss: 3.6475 - val_accuracy: 0.1582\n"
     ]
    }
   ],
   "source": [
    "callback = tf.keras.callbacks.EarlyStopping(monitor='val_accuracy', patience= 5)\n",
    "history = model.fit(train_img, epochs=100, \n",
    "                    validation_data=val_img, callbacks=[callback], verbose = 1)"
   ]
  },
  {
   "cell_type": "code",
   "execution_count": 15,
   "id": "970684ba-60fd-4e4c-af70-feda2b1d0640",
   "metadata": {},
   "outputs": [
    {
     "data": {
      "text/plain": [
       "<matplotlib.legend.Legend at 0x27039fc1910>"
      ]
     },
     "execution_count": 15,
     "metadata": {},
     "output_type": "execute_result"
    },
    {
     "data": {
      "image/png": "[encoded data removed]",
      "text/plain": [
       "<Figure size 432x288 with 1 Axes>"
      ]
     },
     "metadata": {
      "needs_background": "light"
     },
     "output_type": "display_data"
    }
   ],
   "source": [
    "# Evaluating the model \n",
    "import seaborn as sns\n",
    "\n",
    "train_history = pd.DataFrame(history.history)\n",
    "train_history['epoch'] = history.epoch\n",
    "# Plot train loss against validation loss\n",
    "sns.lineplot(x='epoch', y ='loss', data =train_history)\n",
    "sns.lineplot(x='epoch', y ='val_loss', data =train_history)\n",
    "plt.legend(labels=['train_loss', 'val_loss'])"
   ]
  },
  {
   "cell_type": "code",
   "execution_count": 16,
   "id": "50867188-c68f-4f52-aa33-497cb4551a01",
   "metadata": {},
   "outputs": [
    {
     "data": {
      "text/plain": [
       "<matplotlib.legend.Legend at 0x2703a1b63d0>"
      ]
     },
     "execution_count": 16,
     "metadata": {},
     "output_type": "execute_result"
    },
    {
     "data": {
      "image/png": "[encoded data removed]",
      "text/plain": [
       "<Figure size 432x288 with 1 Axes>"
      ]
     },
     "metadata": {
      "needs_background": "light"
     },
     "output_type": "display_data"
    }
   ],
   "source": [
    "# Plot train accuracy against validation accuracy\n",
    "sns.lineplot(x='epoch', y ='accuracy', data =train_history)\n",
    "sns.lineplot(x='epoch', y ='val_accuracy', data =train_history)\n",
    "plt.legend(labels=['train_accuracy', 'val_accuracy'])"
   ]
  },
  {
   "cell_type": "code",
   "execution_count": 17,
   "id": "6bdb26fd-624a-4c5e-8aa5-449d36a2d852",
   "metadata": {},
   "outputs": [],
   "source": [
    "data_aug = tf.keras.Sequential(\n",
    "  [\n",
    "    tf.keras.layers.experimental.preprocessing.RandomFlip(\"horizontal_and_vertical\", \n",
    "        input_shape=(64, 64, 3)),\n",
    "    tf.keras.layers.experimental.preprocessing.RandomRotation(0.1),\n",
    "    tf.keras.layers.experimental.preprocessing.RandomTranslation(height_factor=0.1,width_factor = 0.1 ),\n",
    "    tf.keras.layers.experimental.preprocessing.RandomZoom(height_factor=(0.1, 0.1))\n",
    "  ]\n",
    ")"
   ]
  },
  {
   "cell_type": "code",
   "execution_count": 18,
   "id": "75c136b1-8f09-4f9e-b959-ae37843569b7",
   "metadata": {},
   "outputs": [],
   "source": [
    "model2 = tf.keras.Sequential([\n",
    "# data augmentation\n",
    "data_aug,\n",
    "# data normalization\n",
    "normalization_layer,\n",
    "# building CNN\n",
    "layers.Conv2D(32, (3, 3), activation='relu', input_shape=(64,64,3)),\n",
    "layers.MaxPooling2D(2, 2),\n",
    "layers.Conv2D(64, (3, 3), activation='relu'),\n",
    "layers.MaxPooling2D(2, 2),\n",
    "layers.Conv2D(64, (3, 3), activation='relu'),\n",
    "layers.Conv2D(64, (2, 2), activation='relu')\n",
    "])\n",
    "# Adding final layers\n",
    "# Convert  feature matrix from 4D to 2D\n",
    "model2.add(layers.Flatten())\n",
    "model2.add(layers.Dense(64, activation='relu'))\n",
    "# Add dropout layer\n",
    "model2.add(layers.Dropout(0.2))\n",
    "# Final dense layer with a neuron for each possible outcome\n",
    "model2.add(layers.Dense(67))"
   ]
  },
  {
   "cell_type": "code",
   "execution_count": 19,
   "id": "24b46cd5-d7dd-44dd-afda-b0934f56cd68",
   "metadata": {},
   "outputs": [],
   "source": [
    "model2.compile(optimizer='adam',\n",
    "              loss=tf.keras.losses.SparseCategoricalCrossentropy(from_logits=True),\n",
    "              metrics=['accuracy'])"
   ]
  },
  {
   "cell_type": "code",
   "execution_count": 20,
   "id": "a96753d3-aff8-4459-950e-b3c6c4ef4590",
   "metadata": {},
   "outputs": [
    {
     "name": "stdout",
     "output_type": "stream",
     "text": [
      "Epoch 1/100\n",
      "1562/1562 [==============================] - 96s 61ms/step - loss: 4.0347 - accuracy: 0.0430 - val_loss: 3.9943 - val_accuracy: 0.0442\n",
      "Epoch 2/100\n",
      "1562/1562 [==============================] - 96s 61ms/step - loss: 3.9723 - accuracy: 0.0531 - val_loss: 3.8879 - val_accuracy: 0.0663\n",
      "Epoch 3/100\n",
      "1562/1562 [==============================] - 512s 328ms/step - loss: 3.8991 - accuracy: 0.0612 - val_loss: 3.8542 - val_accuracy: 0.0612\n",
      "Epoch 4/100\n",
      "1562/1562 [==============================] - 92s 59ms/step - loss: 3.8707 - accuracy: 0.0613 - val_loss: 3.8791 - val_accuracy: 0.0557\n",
      "Epoch 5/100\n",
      "1562/1562 [==============================] - 87s 56ms/step - loss: 3.8424 - accuracy: 0.0680 - val_loss: 3.8933 - val_accuracy: 0.0576\n",
      "Epoch 6/100\n",
      "1562/1562 [==============================] - 93s 60ms/step - loss: 3.8200 - accuracy: 0.0695 - val_loss: 3.8404 - val_accuracy: 0.0669\n",
      "Epoch 7/100\n",
      "1562/1562 [==============================] - 92s 59ms/step - loss: 3.8003 - accuracy: 0.0731 - val_loss: 3.8380 - val_accuracy: 0.0695\n",
      "Epoch 8/100\n",
      "1562/1562 [==============================] - 92s 59ms/step - loss: 3.7755 - accuracy: 0.0771 - val_loss: 3.8258 - val_accuracy: 0.0746\n",
      "Epoch 9/100\n",
      "1562/1562 [==============================] - 92s 59ms/step - loss: 3.7413 - accuracy: 0.0823 - val_loss: 3.7437 - val_accuracy: 0.0749\n",
      "Epoch 10/100\n",
      "1562/1562 [==============================] - 922s 591ms/step - loss: 3.7040 - accuracy: 0.0873 - val_loss: 3.7297 - val_accuracy: 0.0801\n",
      "Epoch 11/100\n",
      "1562/1562 [==============================] - 94s 60ms/step - loss: 3.6784 - accuracy: 0.0911 - val_loss: 3.6613 - val_accuracy: 0.0890\n",
      "Epoch 12/100\n",
      "1562/1562 [==============================] - 94s 60ms/step - loss: 3.6584 - accuracy: 0.0924 - val_loss: 3.8338 - val_accuracy: 0.0765\n",
      "Epoch 13/100\n",
      "1562/1562 [==============================] - 93s 60ms/step - loss: 3.6458 - accuracy: 0.0960 - val_loss: 3.7975 - val_accuracy: 0.0778\n",
      "Epoch 14/100\n",
      "1562/1562 [==============================] - 88s 56ms/step - loss: 3.6301 - accuracy: 0.0985 - val_loss: 3.8157 - val_accuracy: 0.0788\n",
      "Epoch 15/100\n",
      "1562/1562 [==============================] - 89s 57ms/step - loss: 3.6135 - accuracy: 0.1028 - val_loss: 3.8522 - val_accuracy: 0.0759\n",
      "Epoch 16/100\n",
      "1562/1562 [==============================] - 92s 59ms/step - loss: 3.6029 - accuracy: 0.1006 - val_loss: 3.7666 - val_accuracy: 0.0849\n"
     ]
    }
   ],
   "source": [
    "history2 = model2.fit(train_img, epochs=100, \n",
    "                    validation_data=val_img, callbacks=[callback], verbose = 1)"
   ]
  },
  {
   "cell_type": "code",
   "execution_count": 21,
   "id": "31bb5485-d8ca-47db-b585-763ab1aaf722",
   "metadata": {},
   "outputs": [
    {
     "data": {
      "text/plain": [
       "<matplotlib.legend.Legend at 0x27044890ee0>"
      ]
     },
     "execution_count": 21,
     "metadata": {},
     "output_type": "execute_result"
    },
    {
     "data": {
      "image/png": "[encoded data removed]",
      "text/plain": [
       "<Figure size 432x288 with 1 Axes>"
      ]
     },
     "metadata": {
      "needs_background": "light"
     },
     "output_type": "display_data"
    }
   ],
   "source": [
    "train_history = pd.DataFrame(history2.history)\n",
    "train_history['epoch'] = history2.epoch\n",
    "# Plot train loss against validation loss\n",
    "sns.lineplot(x='epoch', y ='loss', data =train_history)\n",
    "sns.lineplot(x='epoch', y ='val_loss', data =train_history)\n",
    "plt.legend(labels=['train_loss', 'val_loss'])"
   ]
  },
  {
   "cell_type": "code",
   "execution_count": 22,
   "id": "d2c2b74f-36b8-4de3-9ae8-d11480daa3a7",
   "metadata": {},
   "outputs": [
    {
     "data": {
      "text/plain": [
       "<matplotlib.legend.Legend at 0x2704ae99460>"
      ]
     },
     "execution_count": 22,
     "metadata": {},
     "output_type": "execute_result"
    },
    {
     "data": {
      "image/png": "[encoded data removed]",
      "text/plain": [
       "<Figure size 432x288 with 1 Axes>"
      ]
     },
     "metadata": {
      "needs_background": "light"
     },
     "output_type": "display_data"
    }
   ],
   "source": [
    "# Plot train accuracy against validation accuracy\n",
    "sns.lineplot(x='epoch', y ='accuracy', data =train_history)\n",
    "sns.lineplot(x='epoch', y ='val_accuracy', data =train_history)\n",
    "plt.legend(labels=['train_accuracy', 'val_accuracy'])"
   ]
  },
  {
   "cell_type": "markdown",
   "id": "7091a246-ff1e-4bb9-87d9-69210f6c2ac0",
   "metadata": {},
   "source": [
    "### Making a Model with Transfer Learning"
   ]
  },
  {
   "cell_type": "code",
   "execution_count": 23,
   "id": "6571f27a-d85e-47b5-898b-f8be80e9ea10",
   "metadata": {},
   "outputs": [
    {
     "name": "stdout",
     "output_type": "stream",
     "text": [
      "WARNING:tensorflow:`input_shape` is undefined or non-square, or `rows` is not 224. Weights for input shape (224, 224) will be loaded as the default.\n"
     ]
    }
   ],
   "source": [
    "IMG_SHAPE = (64, 64, 3)\n",
    "\n",
    "MobileNetV3Large_model = tf.keras.applications.MobileNetV3Large(input_shape = IMG_SHAPE,\n",
    "                                               include_top=False, # Remove the fully-connected layer\n",
    "                                               weights='imagenet') # Pre-training on ImageNet"
   ]
  },
  {
   "cell_type": "code",
   "execution_count": 24,
   "id": "c991e179-c831-4921-8b4b-7010c68b87ed",
   "metadata": {},
   "outputs": [],
   "source": [
    "MobileNetV3Large_model.trainable = False"
   ]
  },
  {
   "cell_type": "code",
   "execution_count": 25,
   "id": "c75b7dd5-41ad-4654-a4bd-1178ebe7a2de",
   "metadata": {},
   "outputs": [],
   "source": [
    "preprocess_input = tf.keras.applications.mobilenet_v3.preprocess_input"
   ]
  },
  {
   "cell_type": "code",
   "execution_count": 26,
   "id": "877a6281-87be-458f-b046-6325adb28cfa",
   "metadata": {},
   "outputs": [
    {
     "name": "stdout",
     "output_type": "stream",
     "text": [
      "(8, 2, 2, 960)\n"
     ]
    }
   ],
   "source": [
    "# setting the dataset to iterate batches as necessary\n",
    "image_batch, label_batch = next(iter(train_img))\n",
    "feature_batch = MobileNetV3Large_model(image_batch)\n",
    "print(feature_batch.shape)"
   ]
  },
  {
   "cell_type": "code",
   "execution_count": 27,
   "id": "83986528-fc70-4bf8-9af2-d1061ae7df0c",
   "metadata": {},
   "outputs": [
    {
     "name": "stdout",
     "output_type": "stream",
     "text": [
      "(8, 960)\n"
     ]
    }
   ],
   "source": [
    "# reshaping the features to a two-dimensional tensor\n",
    "global_average_layer = tf.keras.layers.GlobalAveragePooling2D()\n",
    "feature_batch_average = global_average_layer(feature_batch)\n",
    "print(feature_batch_average.shape)"
   ]
  },
  {
   "cell_type": "code",
   "execution_count": 28,
   "id": "9bbeb8db-f62f-427b-a059-17a076bf7932",
   "metadata": {},
   "outputs": [
    {
     "name": "stdout",
     "output_type": "stream",
     "text": [
      "(8, 3840)\n"
     ]
    }
   ],
   "source": [
    "# flattening the features\n",
    "global_average_layer = tf.keras.layers.Flatten()\n",
    "feature_batch_average = global_average_layer(feature_batch)\n",
    "print(feature_batch_average.shape)"
   ]
  },
  {
   "cell_type": "code",
   "execution_count": 29,
   "id": "801d0f14-1c46-4ddf-b912-5444f7871ae2",
   "metadata": {},
   "outputs": [
    {
     "name": "stdout",
     "output_type": "stream",
     "text": [
      " The size of the predicted value for a given batch = (8, 67)\n"
     ]
    }
   ],
   "source": [
    "# adding the prediction layer\n",
    "prediction_layer = tf.keras.layers.Dense(67)\n",
    "prediction_batch = prediction_layer(feature_batch_average)\n",
    "print(f' The size of the predicted value for a given batch = {prediction_batch.shape}')"
   ]
  },
  {
   "cell_type": "code",
   "execution_count": 30,
   "id": "e40f4566-9873-4bbc-80d2-5f5d0873d0bc",
   "metadata": {},
   "outputs": [],
   "source": [
    "# making the model\n",
    "inputs = tf.keras.Input(shape = IMG_SHAPE)\n",
    "x = data_aug(inputs)\n",
    "x = preprocess_input(x)\n",
    "x = MobileNetV3Large_model(x, training=False)\n",
    "x = global_average_layer(x)\n",
    "x = tf.keras.layers.Dropout(0.2)(x)\n",
    "outputs = prediction_layer(x)\n",
    "transfer_model = tf.keras.Model(inputs, outputs)"
   ]
  },
  {
   "cell_type": "code",
   "execution_count": 31,
   "id": "4c623f2f-90ed-41b8-a1c4-ac405758a189",
   "metadata": {},
   "outputs": [],
   "source": [
    "# compiling the model\n",
    "transfer_model.compile(optimizer=tf.keras.optimizers.Adam(learning_rate=0.01),\n",
    "              loss=tf.keras.losses.SparseCategoricalCrossentropy(from_logits=True),\n",
    "              metrics=['accuracy'])"
   ]
  },
  {
   "cell_type": "code",
   "execution_count": 32,
   "id": "3aa7b55d-bf40-4466-a066-c569cbfced91",
   "metadata": {},
   "outputs": [
    {
     "name": "stdout",
     "output_type": "stream",
     "text": [
      "Epoch 1/100\n",
      "1562/1562 [==============================] - 94s 59ms/step - loss: 26.1152 - accuracy: 0.1156 - val_loss: 24.8978 - val_accuracy: 0.1934\n",
      "Epoch 2/100\n",
      "1562/1562 [==============================] - 101s 65ms/step - loss: 33.8924 - accuracy: 0.1559 - val_loss: 30.2910 - val_accuracy: 0.1896\n",
      "Epoch 3/100\n",
      "1562/1562 [==============================] - 84s 54ms/step - loss: 37.1943 - accuracy: 0.1723 - val_loss: 34.1260 - val_accuracy: 0.1924\n",
      "Epoch 4/100\n",
      "1562/1562 [==============================] - 89s 57ms/step - loss: 39.5656 - accuracy: 0.1825 - val_loss: 35.6068 - val_accuracy: 0.2075\n",
      "Epoch 5/100\n",
      "1562/1562 [==============================] - 89s 57ms/step - loss: 40.8982 - accuracy: 0.1894 - val_loss: 37.2701 - val_accuracy: 0.1963\n",
      "Epoch 6/100\n",
      "1562/1562 [==============================] - 90s 58ms/step - loss: 41.9570 - accuracy: 0.1986 - val_loss: 39.3482 - val_accuracy: 0.2027\n",
      "Epoch 7/100\n",
      "1562/1562 [==============================] - 94s 60ms/step - loss: 43.0192 - accuracy: 0.2008 - val_loss: 40.6842 - val_accuracy: 0.2049\n",
      "Epoch 8/100\n",
      "1562/1562 [==============================] - 92s 59ms/step - loss: 43.7275 - accuracy: 0.2038 - val_loss: 41.3827 - val_accuracy: 0.2001\n",
      "Epoch 9/100\n",
      "1562/1562 [==============================] - 90s 58ms/step - loss: 44.7578 - accuracy: 0.2025 - val_loss: 41.8666 - val_accuracy: 0.2142\n",
      "Epoch 10/100\n",
      "1562/1562 [==============================] - 87s 56ms/step - loss: 44.6315 - accuracy: 0.2113 - val_loss: 41.8631 - val_accuracy: 0.2094\n",
      "Epoch 11/100\n",
      "1562/1562 [==============================] - 89s 57ms/step - loss: 45.2675 - accuracy: 0.2118 - val_loss: 43.3871 - val_accuracy: 0.2168\n",
      "Epoch 12/100\n",
      "1562/1562 [==============================] - 86s 55ms/step - loss: 45.7389 - accuracy: 0.2185 - val_loss: 44.5508 - val_accuracy: 0.2145\n",
      "Epoch 13/100\n",
      "1562/1562 [==============================] - 92s 59ms/step - loss: 45.9558 - accuracy: 0.2161 - val_loss: 45.8537 - val_accuracy: 0.2097\n",
      "Epoch 14/100\n",
      "1562/1562 [==============================] - 90s 58ms/step - loss: 47.2529 - accuracy: 0.2163 - val_loss: 45.7023 - val_accuracy: 0.2091\n",
      "Epoch 15/100\n",
      "1562/1562 [==============================] - 85s 55ms/step - loss: 47.1421 - accuracy: 0.2206 - val_loss: 46.5207 - val_accuracy: 0.2229\n",
      "Epoch 16/100\n",
      "1562/1562 [==============================] - 89s 57ms/step - loss: 47.1480 - accuracy: 0.2205 - val_loss: 46.4775 - val_accuracy: 0.2129\n",
      "Epoch 17/100\n",
      "1562/1562 [==============================] - 87s 55ms/step - loss: 47.3529 - accuracy: 0.2229 - val_loss: 46.4724 - val_accuracy: 0.2113\n",
      "Epoch 18/100\n",
      "1562/1562 [==============================] - 85s 55ms/step - loss: 48.3870 - accuracy: 0.2190 - val_loss: 47.6436 - val_accuracy: 0.2142\n",
      "Epoch 19/100\n",
      "1562/1562 [==============================] - 202s 129ms/step - loss: 47.9932 - accuracy: 0.2261 - val_loss: 47.8495 - val_accuracy: 0.2315\n",
      "Epoch 20/100\n",
      "1562/1562 [==============================] - 85s 55ms/step - loss: 48.8378 - accuracy: 0.2239 - val_loss: 47.0043 - val_accuracy: 0.2222\n",
      "Epoch 21/100\n",
      "1562/1562 [==============================] - 84s 54ms/step - loss: 48.2749 - accuracy: 0.2289 - val_loss: 48.4149 - val_accuracy: 0.2184\n",
      "Epoch 22/100\n",
      "1562/1562 [==============================] - 91s 58ms/step - loss: 48.4798 - accuracy: 0.2274 - val_loss: 48.6685 - val_accuracy: 0.2235\n",
      "Epoch 23/100\n",
      "1562/1562 [==============================] - 85s 54ms/step - loss: 48.8771 - accuracy: 0.2250 - val_loss: 50.6729 - val_accuracy: 0.2277\n",
      "Epoch 24/100\n",
      "1562/1562 [==============================] - 88s 56ms/step - loss: 49.6186 - accuracy: 0.2258 - val_loss: 49.7981 - val_accuracy: 0.2257\n"
     ]
    }
   ],
   "source": [
    "callback = tf.keras.callbacks.EarlyStopping(monitor='val_accuracy', patience= 5)\n",
    "history = transfer_model.fit(\n",
    "  train_img,\n",
    "  validation_data=val_img,\n",
    "  epochs=100,\n",
    "  callbacks=[callback], verbose = 1\n",
    ")"
   ]
  },
  {
   "cell_type": "code",
   "execution_count": 33,
   "id": "4125a825-c607-40c7-a2b8-349dec00d4fb",
   "metadata": {},
   "outputs": [
    {
     "data": {
      "text/plain": [
       "<matplotlib.legend.Legend at 0x27044890f40>"
      ]
     },
     "execution_count": 33,
     "metadata": {},
     "output_type": "execute_result"
    },
    {
     "data": {
      "image/png": "[encoded data removed]",
      "text/plain": [
       "<Figure size 432x288 with 1 Axes>"
      ]
     },
     "metadata": {
      "needs_background": "light"
     },
     "output_type": "display_data"
    }
   ],
   "source": [
    "train_history = pd.DataFrame(history.history)\n",
    "train_history['epoch'] = history.epoch\n",
    "# Plot train loss against validation loss\n",
    "sns.lineplot(x='epoch', y ='loss', data =train_history)\n",
    "sns.lineplot(x='epoch', y ='val_loss', data =train_history)\n",
    "plt.legend(labels=['train_loss', 'val_loss'])"
   ]
  },
  {
   "cell_type": "code",
   "execution_count": 34,
   "id": "205f8f9a-81bc-4711-8741-31ccde4694ea",
   "metadata": {},
   "outputs": [
    {
     "data": {
      "text/plain": [
       "<matplotlib.legend.Legend at 0x2705bcc0fd0>"
      ]
     },
     "execution_count": 34,
     "metadata": {},
     "output_type": "execute_result"
    },
    {
     "data": {
      "image/png": "[encoded data removed]",
      "text/plain": [
       "<Figure size 432x288 with 1 Axes>"
      ]
     },
     "metadata": {
      "needs_background": "light"
     },
     "output_type": "display_data"
    }
   ],
   "source": [
    "# Plot train accuracy against validation accuracy\n",
    "sns.lineplot(x='epoch', y ='accuracy', data =train_history)\n",
    "sns.lineplot(x='epoch', y ='val_accuracy', data =train_history)\n",
    "plt.legend(labels=['train_accuracy', 'val_accuracy'])"
   ]
  },
  {
   "cell_type": "markdown",
   "id": "88e3869c-7f08-4b8a-8207-6732cd4ed147",
   "metadata": {},
   "source": [
    "### Model Comparison, Which Model to Pick\n",
    "The transfer model seems to have some layer that is affecting how loss is calculated, even though all three models specified a loss function of sparse categorical cross-entropy when compiled. However, despite the oddity of how the transfer model is calculating loss, the validation accuracy doesn't lie. The standard, basic convolutional network performs better than the data augmented network, which is odd. However, the transfer learning model is much more effective than either, especially in how it extrapolates to validation data, which we see when the loss and the accuracy for training versus validation data track along with each other."
   ]
  },
  {
   "cell_type": "markdown",
   "id": "6fca249d-a16e-42ed-b161-a71f40dc8ce9",
   "metadata": {},
   "source": [
    "### Building RNN Models"
   ]
  },
  {
   "cell_type": "code",
   "execution_count": 35,
   "id": "0ba18f20-634e-4391-86de-90f488b1d65a",
   "metadata": {},
   "outputs": [
    {
     "data": {
      "text/html": [
       "<div>\n",
       "<style scoped>\n",
       "    .dataframe tbody tr th:only-of-type {\n",
       "        vertical-align: middle;\n",
       "    }\n",
       "\n",
       "    .dataframe tbody tr th {\n",
       "        vertical-align: top;\n",
       "    }\n",
       "\n",
       "    .dataframe thead th {\n",
       "        text-align: right;\n",
       "    }\n",
       "</style>\n",
       "<table border=\"1\" class=\"dataframe\">\n",
       "  <thead>\n",
       "    <tr style=\"text-align: right;\">\n",
       "      <th></th>\n",
       "      <th>sentiment</th>\n",
       "      <th>id</th>\n",
       "      <th>date</th>\n",
       "      <th>flag</th>\n",
       "      <th>user</th>\n",
       "      <th>text</th>\n",
       "    </tr>\n",
       "  </thead>\n",
       "  <tbody>\n",
       "    <tr>\n",
       "      <th>0</th>\n",
       "      <td>0</td>\n",
       "      <td>1467810369</td>\n",
       "      <td>Mon Apr 06 22:19:45 PDT 2009</td>\n",
       "      <td>NO_QUERY</td>\n",
       "      <td>_TheSpecialOne_</td>\n",
       "      <td>@switchfoot http://twitpic.com/2y1zl - Awww, t...</td>\n",
       "    </tr>\n",
       "    <tr>\n",
       "      <th>1</th>\n",
       "      <td>0</td>\n",
       "      <td>1467810672</td>\n",
       "      <td>Mon Apr 06 22:19:49 PDT 2009</td>\n",
       "      <td>NO_QUERY</td>\n",
       "      <td>scotthamilton</td>\n",
       "      <td>is upset that he can't update his Facebook by ...</td>\n",
       "    </tr>\n",
       "    <tr>\n",
       "      <th>2</th>\n",
       "      <td>0</td>\n",
       "      <td>1467810917</td>\n",
       "      <td>Mon Apr 06 22:19:53 PDT 2009</td>\n",
       "      <td>NO_QUERY</td>\n",
       "      <td>mattycus</td>\n",
       "      <td>@Kenichan I dived many times for the ball. Man...</td>\n",
       "    </tr>\n",
       "    <tr>\n",
       "      <th>3</th>\n",
       "      <td>0</td>\n",
       "      <td>1467811184</td>\n",
       "      <td>Mon Apr 06 22:19:57 PDT 2009</td>\n",
       "      <td>NO_QUERY</td>\n",
       "      <td>ElleCTF</td>\n",
       "      <td>my whole body feels itchy and like its on fire</td>\n",
       "    </tr>\n",
       "    <tr>\n",
       "      <th>4</th>\n",
       "      <td>0</td>\n",
       "      <td>1467811193</td>\n",
       "      <td>Mon Apr 06 22:19:57 PDT 2009</td>\n",
       "      <td>NO_QUERY</td>\n",
       "      <td>Karoli</td>\n",
       "      <td>@nationwideclass no, it's not behaving at all....</td>\n",
       "    </tr>\n",
       "  </tbody>\n",
       "</table>\n",
       "</div>"
      ],
      "text/plain": [
       "   sentiment          id                          date      flag  \\\n",
       "0          0  1467810369  Mon Apr 06 22:19:45 PDT 2009  NO_QUERY   \n",
       "1          0  1467810672  Mon Apr 06 22:19:49 PDT 2009  NO_QUERY   \n",
       "2          0  1467810917  Mon Apr 06 22:19:53 PDT 2009  NO_QUERY   \n",
       "3          0  1467811184  Mon Apr 06 22:19:57 PDT 2009  NO_QUERY   \n",
       "4          0  1467811193  Mon Apr 06 22:19:57 PDT 2009  NO_QUERY   \n",
       "\n",
       "              user                                               text  \n",
       "0  _TheSpecialOne_  @switchfoot http://twitpic.com/2y1zl - Awww, t...  \n",
       "1    scotthamilton  is upset that he can't update his Facebook by ...  \n",
       "2         mattycus  @Kenichan I dived many times for the ball. Man...  \n",
       "3          ElleCTF    my whole body feels itchy and like its on fire   \n",
       "4           Karoli  @nationwideclass no, it's not behaving at all....  "
      ]
     },
     "execution_count": 35,
     "metadata": {},
     "output_type": "execute_result"
    }
   ],
   "source": [
    "import pandas as pd\n",
    "from sklearn import preprocessing\n",
    "import re\n",
    "from sklearn.model_selection import train_test_split\n",
    "import tensorflow as tf\n",
    "import numpy as np\n",
    "import seaborn as sns\n",
    "import pandas as pd\n",
    "import matplotlib.pyplot as plt\n",
    "\n",
    "data_path = \"C:\\\\Users\\\\adog1\\\\Documents\\\\Deep Learning\\\\training.1600000.processed.noemoticon.csv\"\n",
    "sentiment_tweets = pd.read_csv(data_path, encoding='iso-8859-1', names=['sentiment', 'id', 'date', 'flag', 'user', 'text'])\n",
    "sentiment_tweets.head()"
   ]
  },
  {
   "cell_type": "code",
   "execution_count": 36,
   "id": "793915a9-8036-40a2-955f-40069c796dac",
   "metadata": {},
   "outputs": [
    {
     "data": {
      "text/plain": [
       "0    800000\n",
       "1    800000\n",
       "Name: label, dtype: int64"
      ]
     },
     "execution_count": 36,
     "metadata": {},
     "output_type": "execute_result"
    }
   ],
   "source": [
    "le = preprocessing.LabelEncoder()\n",
    "sentiment_tweets['label'] = le.fit_transform(sentiment_tweets['sentiment'])\n",
    "sentiment_tweets.label.value_counts()"
   ]
  },
  {
   "cell_type": "code",
   "execution_count": 37,
   "id": "1587f716-a503-46b9-82b8-6086d8264fc3",
   "metadata": {},
   "outputs": [
    {
     "data": {
      "text/html": [
       "<div>\n",
       "<style scoped>\n",
       "    .dataframe tbody tr th:only-of-type {\n",
       "        vertical-align: middle;\n",
       "    }\n",
       "\n",
       "    .dataframe tbody tr th {\n",
       "        vertical-align: top;\n",
       "    }\n",
       "\n",
       "    .dataframe thead th {\n",
       "        text-align: right;\n",
       "    }\n",
       "</style>\n",
       "<table border=\"1\" class=\"dataframe\">\n",
       "  <thead>\n",
       "    <tr style=\"text-align: right;\">\n",
       "      <th></th>\n",
       "      <th>sentiment</th>\n",
       "      <th>id</th>\n",
       "      <th>date</th>\n",
       "      <th>flag</th>\n",
       "      <th>user</th>\n",
       "      <th>text</th>\n",
       "      <th>label</th>\n",
       "    </tr>\n",
       "  </thead>\n",
       "  <tbody>\n",
       "    <tr>\n",
       "      <th>0</th>\n",
       "      <td>0</td>\n",
       "      <td>1467810369</td>\n",
       "      <td>Mon Apr 06 22:19:45 PDT 2009</td>\n",
       "      <td>NO_QUERY</td>\n",
       "      <td>_TheSpecialOne_</td>\n",
       "      <td>switchfoot http twitpic com 2y1zl Awww that  ...</td>\n",
       "      <td>0</td>\n",
       "    </tr>\n",
       "    <tr>\n",
       "      <th>1</th>\n",
       "      <td>0</td>\n",
       "      <td>1467810672</td>\n",
       "      <td>Mon Apr 06 22:19:49 PDT 2009</td>\n",
       "      <td>NO_QUERY</td>\n",
       "      <td>scotthamilton</td>\n",
       "      <td>upset that  can  update his Facebook  texting...</td>\n",
       "      <td>0</td>\n",
       "    </tr>\n",
       "    <tr>\n",
       "      <th>2</th>\n",
       "      <td>0</td>\n",
       "      <td>1467810917</td>\n",
       "      <td>Mon Apr 06 22:19:53 PDT 2009</td>\n",
       "      <td>NO_QUERY</td>\n",
       "      <td>mattycus</td>\n",
       "      <td>Kenichan  dived many times for the ball Manag...</td>\n",
       "      <td>0</td>\n",
       "    </tr>\n",
       "    <tr>\n",
       "      <th>3</th>\n",
       "      <td>0</td>\n",
       "      <td>1467811184</td>\n",
       "      <td>Mon Apr 06 22:19:57 PDT 2009</td>\n",
       "      <td>NO_QUERY</td>\n",
       "      <td>ElleCTF</td>\n",
       "      <td>whole body feels itchy and like its  fire</td>\n",
       "      <td>0</td>\n",
       "    </tr>\n",
       "    <tr>\n",
       "      <th>4</th>\n",
       "      <td>0</td>\n",
       "      <td>1467811193</td>\n",
       "      <td>Mon Apr 06 22:19:57 PDT 2009</td>\n",
       "      <td>NO_QUERY</td>\n",
       "      <td>Karoli</td>\n",
       "      <td>nationwideclass    not behaving  all   mad wh...</td>\n",
       "      <td>0</td>\n",
       "    </tr>\n",
       "  </tbody>\n",
       "</table>\n",
       "</div>"
      ],
      "text/plain": [
       "   sentiment          id                          date      flag  \\\n",
       "0          0  1467810369  Mon Apr 06 22:19:45 PDT 2009  NO_QUERY   \n",
       "1          0  1467810672  Mon Apr 06 22:19:49 PDT 2009  NO_QUERY   \n",
       "2          0  1467810917  Mon Apr 06 22:19:53 PDT 2009  NO_QUERY   \n",
       "3          0  1467811184  Mon Apr 06 22:19:57 PDT 2009  NO_QUERY   \n",
       "4          0  1467811193  Mon Apr 06 22:19:57 PDT 2009  NO_QUERY   \n",
       "\n",
       "              user                                               text  label  \n",
       "0  _TheSpecialOne_   switchfoot http twitpic com 2y1zl Awww that  ...      0  \n",
       "1    scotthamilton   upset that  can  update his Facebook  texting...      0  \n",
       "2         mattycus   Kenichan  dived many times for the ball Manag...      0  \n",
       "3          ElleCTF         whole body feels itchy and like its  fire       0  \n",
       "4           Karoli   nationwideclass    not behaving  all   mad wh...      0  "
      ]
     },
     "execution_count": 37,
     "metadata": {},
     "output_type": "execute_result"
    }
   ],
   "source": [
    "# Remove all special characters, punctuation and spaces\n",
    "sentiment_tweets['text'] = sentiment_tweets['text'].apply(lambda x: re.sub(r'[^A-Za-z0-9]+',' ',x))\n",
    "# Remove length <=2\n",
    "sentiment_tweets['text'] = sentiment_tweets['text'].apply(lambda x: re.sub(r'\\b[a-zA-Z]{1,2}\\b', '', x))\n",
    "\n",
    "sentiment_tweets.head()"
   ]
  },
  {
   "cell_type": "code",
   "execution_count": 38,
   "id": "e6852e91-6e26-4044-8779-e15051bbdc38",
   "metadata": {},
   "outputs": [],
   "source": [
    "X = sentiment_tweets['text'].values\n",
    "y = sentiment_tweets['label'].values\n",
    "X_train, X_hold, y_train, y_hold = train_test_split(X, y, stratify=y, test_size=0.4)\n",
    "X_val, X_test, y_val, y_test = train_test_split(X_hold, y_hold, stratify=y_hold, test_size=0.5)"
   ]
  },
  {
   "cell_type": "code",
   "execution_count": 39,
   "id": "fd5520bf-68b5-43ba-bae1-15052314738b",
   "metadata": {},
   "outputs": [],
   "source": [
    "# Specify the vocab size\n",
    "VOCAB_SIZE = 1000\n",
    "# Perform text vectorization\n",
    "encoder = tf.keras.layers.experimental.preprocessing.TextVectorization(\n",
    "    max_tokens=VOCAB_SIZE)\n",
    "\n",
    "# Fits the state of the preprocessing layer to the dataset.\n",
    "encoder.adapt(X_train)"
   ]
  },
  {
   "cell_type": "markdown",
   "id": "683327c8-2301-48fa-a505-e53dcfa14f69",
   "metadata": {},
   "source": [
    "### First Model\n",
    "This model will include a GRU layer, but not LSTM layer."
   ]
  },
  {
   "cell_type": "code",
   "execution_count": 40,
   "id": "cb812b61-b6fe-41bc-b901-909525a44149",
   "metadata": {},
   "outputs": [],
   "source": [
    "model1 = tf.keras.Sequential([\n",
    "    # Convert review text to indices\n",
    "    encoder, \n",
    "    tf.keras.layers.Embedding(\n",
    "        input_dim=len(encoder.get_vocabulary()),\n",
    "        output_dim=64,\n",
    "        # Use masking to handle the variable sequence lengths\n",
    "        mask_zero=True),\n",
    "    tf.keras.layers.GRU(128, return_sequences=False),\n",
    "    # Binary classifier\n",
    "    tf.keras.layers.Dense(64, activation='relu'),\n",
    "    tf.keras.layers.Dense(3)\n",
    "])"
   ]
  },
  {
   "cell_type": "markdown",
   "id": "8c6cce58-0b57-4474-a8d7-26d1d2d38160",
   "metadata": {},
   "source": [
    "### Second Model\n",
    "This model will include an LSTM later, but not a GRU layer."
   ]
  },
  {
   "cell_type": "code",
   "execution_count": 41,
   "id": "c120d1a4-d7df-453a-8b04-97c77437f84c",
   "metadata": {},
   "outputs": [],
   "source": [
    "model2 = tf.keras.Sequential([\n",
    "    # Convert review text to indices\n",
    "    encoder, \n",
    "    tf.keras.layers.Embedding(\n",
    "        input_dim=len(encoder.get_vocabulary()),\n",
    "        output_dim=64,\n",
    "        # Use masking to handle the variable sequence lengths\n",
    "        mask_zero=True),\n",
    "    tf.keras.layers.Bidirectional(tf.keras.layers.LSTM(128)),\n",
    "    # Binary classifier\n",
    "    tf.keras.layers.Dense(64, activation='relu'),\n",
    "    tf.keras.layers.Dense(3)\n",
    "])"
   ]
  },
  {
   "cell_type": "markdown",
   "id": "074428ae-0f12-436c-808e-92372ed7c3f6",
   "metadata": {},
   "source": [
    "### Third Model\n",
    "This model will include both a GRU and an LSTM layer."
   ]
  },
  {
   "cell_type": "code",
   "execution_count": 42,
   "id": "9022ce54-dd8e-40ec-a7dd-d974788d5494",
   "metadata": {},
   "outputs": [],
   "source": [
    "model3 = tf.keras.Sequential([\n",
    "    # Convert review text to indices\n",
    "    encoder, \n",
    "    tf.keras.layers.Embedding(\n",
    "        input_dim=len(encoder.get_vocabulary()),\n",
    "        output_dim=64,\n",
    "        # Use masking to handle the variable sequence lengths\n",
    "        mask_zero=True),\n",
    "    # \n",
    "    tf.keras.layers.GRU(128, return_sequences=True),\n",
    "    tf.keras.layers.Bidirectional(tf.keras.layers.LSTM(128)),\n",
    "    # Binary classifier\n",
    "    tf.keras.layers.Dense(64, activation='relu'),\n",
    "    tf.keras.layers.Dense(3)\n",
    "])"
   ]
  },
  {
   "cell_type": "code",
   "execution_count": 43,
   "id": "e724b11b-5045-4ddd-80b7-2bbe08e9b69a",
   "metadata": {},
   "outputs": [
    {
     "name": "stdout",
     "output_type": "stream",
     "text": [
      "X_train size  =(960000,); y_train size  =(960000,)\n",
      "X_val size  =(320000,); y_val size  =(320000,)\n"
     ]
    }
   ],
   "source": [
    "print(f'X_train size  ={X_train.shape}; y_train size  ={y_train.shape}')\n",
    "print(f'X_val size  ={X_val.shape}; y_val size  ={y_val.shape}')"
   ]
  },
  {
   "cell_type": "markdown",
   "id": "27ac6940-b883-4578-9b96-5f3cd6fe9143",
   "metadata": {},
   "source": [
    "### Model 1 Results"
   ]
  },
  {
   "cell_type": "code",
   "execution_count": 44,
   "id": "9de9f664-e651-48c5-b8a9-789d30073d14",
   "metadata": {},
   "outputs": [],
   "source": [
    "# compiling model\n",
    "model1.compile(loss=tf.keras.losses.SparseCategoricalCrossentropy(from_logits=True),\n",
    "              optimizer=tf.keras.optimizers.Adam(1e-4),\n",
    "              metrics=['accuracy'])"
   ]
  },
  {
   "cell_type": "code",
   "execution_count": 45,
   "id": "989583c8-8cc7-462f-8f28-61284e855b7b",
   "metadata": {},
   "outputs": [
    {
     "name": "stdout",
     "output_type": "stream",
     "text": [
      "Epoch 1/3\n",
      "30000/30000 [==============================] - 586s 19ms/step - loss: 0.4971 - accuracy: 0.7543 - val_loss: 0.4752 - val_accuracy: 0.7681\n",
      "Epoch 2/3\n",
      "30000/30000 [==============================] - 757s 25ms/step - loss: 0.4698 - accuracy: 0.7711 - val_loss: 0.4657 - val_accuracy: 0.7727\n",
      "Epoch 3/3\n",
      "30000/30000 [==============================] - 775s 26ms/step - loss: 0.4617 - accuracy: 0.7762 - val_loss: 0.4598 - val_accuracy: 0.7775\n"
     ]
    }
   ],
   "source": [
    "history1 = model1.fit(x=X_train,y=y_train,epochs=3,\n",
    "          validation_data=(X_val,y_val), batch_size=32, verbose= 1\n",
    "          )"
   ]
  },
  {
   "cell_type": "code",
   "execution_count": 46,
   "id": "a7779cff-d4e1-4d2a-a20f-780d15a17186",
   "metadata": {},
   "outputs": [
    {
     "data": {
      "text/plain": [
       "<matplotlib.legend.Legend at 0x2704ae90970>"
      ]
     },
     "execution_count": 46,
     "metadata": {},
     "output_type": "execute_result"
    },
    {
     "data": {
      "image/png": "[encoded data removed]",
      "text/plain": [
       "<Figure size 432x288 with 1 Axes>"
      ]
     },
     "metadata": {
      "needs_background": "light"
     },
     "output_type": "display_data"
    }
   ],
   "source": [
    "# Plotting training versus validation loss\n",
    "train_history = pd.DataFrame(history1.history)\n",
    "train_history['epoch'] = history1.epoch\n",
    "sns.lineplot(x='epoch', y ='loss', data =train_history)\n",
    "sns.lineplot(x='epoch', y ='val_loss', data =train_history)\n",
    "plt.legend(labels=['train_loss', 'val_loss'])"
   ]
  },
  {
   "cell_type": "code",
   "execution_count": 47,
   "id": "92825ccb-709b-4090-9d57-a20143e58107",
   "metadata": {},
   "outputs": [
    {
     "data": {
      "text/plain": [
       "<matplotlib.legend.Legend at 0x270780ff160>"
      ]
     },
     "execution_count": 47,
     "metadata": {},
     "output_type": "execute_result"
    },
    {
     "data": {
      "image/png": "[encoded data removed]",
      "text/plain": [
       "<Figure size 432x288 with 1 Axes>"
      ]
     },
     "metadata": {
      "needs_background": "light"
     },
     "output_type": "display_data"
    }
   ],
   "source": [
    "# Plotting training versus validation accuracy\n",
    "sns.lineplot(x='epoch', y ='accuracy', data =train_history)\n",
    "sns.lineplot(x='epoch', y ='val_accuracy', data =train_history)\n",
    "plt.legend(labels=['train_accuracy', 'val_accuracy'])"
   ]
  },
  {
   "cell_type": "markdown",
   "id": "e7055fe7-a6ae-481b-ac0f-d249792e1f65",
   "metadata": {},
   "source": [
    "### Model 2 Results"
   ]
  },
  {
   "cell_type": "code",
   "execution_count": 48,
   "id": "b3b02811-3c8d-4062-bdb5-09ca5b2dcd2c",
   "metadata": {},
   "outputs": [],
   "source": [
    "# compiling model\n",
    "model2.compile(loss=tf.keras.losses.SparseCategoricalCrossentropy(from_logits=True),\n",
    "              optimizer=tf.keras.optimizers.Adam(1e-4),\n",
    "              metrics=['accuracy'])"
   ]
  },
  {
   "cell_type": "code",
   "execution_count": 49,
   "id": "7f0e3c75-4bb7-41ef-87a7-72922a4f8bb3",
   "metadata": {},
   "outputs": [
    {
     "name": "stdout",
     "output_type": "stream",
     "text": [
      "Epoch 1/3\n",
      "30000/30000 [==============================] - 1010s 34ms/step - loss: 0.4957 - accuracy: 0.7562 - val_loss: 0.4753 - val_accuracy: 0.7682\n",
      "Epoch 2/3\n",
      "30000/30000 [==============================] - 72394s 2s/step - loss: 0.4689 - accuracy: 0.7720 - val_loss: 0.4651 - val_accuracy: 0.7736\n",
      "Epoch 3/3\n",
      "30000/30000 [==============================] - 1023s 34ms/step - loss: 0.4594 - accuracy: 0.7781 - val_loss: 0.4577 - val_accuracy: 0.7794\n"
     ]
    }
   ],
   "source": [
    "history2 = model2.fit(x=X_train,y=y_train,batch_size= 32,epochs=3,\n",
    "          validation_data=(X_val,y_val), verbose= 1\n",
    "          )"
   ]
  },
  {
   "cell_type": "code",
   "execution_count": 50,
   "id": "54577642-04d7-4e7e-ae32-ec73427e53f3",
   "metadata": {},
   "outputs": [
    {
     "data": {
      "text/plain": [
       "<matplotlib.legend.Legend at 0x2701f299a60>"
      ]
     },
     "execution_count": 50,
     "metadata": {},
     "output_type": "execute_result"
    },
    {
     "data": {
      "image/png": "[encoded data removed]",
      "text/plain": [
       "<Figure size 432x288 with 1 Axes>"
      ]
     },
     "metadata": {
      "needs_background": "light"
     },
     "output_type": "display_data"
    }
   ],
   "source": [
    "# Plotting training versus validation loss\n",
    "train_history = pd.DataFrame(history2.history)\n",
    "train_history['epoch'] = history2.epoch\n",
    "sns.lineplot(x='epoch', y ='loss', data =train_history)\n",
    "sns.lineplot(x='epoch', y ='val_loss', data =train_history)\n",
    "plt.legend(labels=['train_loss', 'val_loss'])"
   ]
  },
  {
   "cell_type": "code",
   "execution_count": 51,
   "id": "ae5a3196-12d1-4e04-a433-3ffcf1cb8dce",
   "metadata": {},
   "outputs": [
    {
     "data": {
      "text/plain": [
       "<matplotlib.legend.Legend at 0x27021224970>"
      ]
     },
     "execution_count": 51,
     "metadata": {},
     "output_type": "execute_result"
    },
    {
     "data": {
      "image/png": "[encoded data removed]",
      "text/plain": [
       "<Figure size 432x288 with 1 Axes>"
      ]
     },
     "metadata": {
      "needs_background": "light"
     },
     "output_type": "display_data"
    }
   ],
   "source": [
    "# Plotting training versus validation accuracy\n",
    "sns.lineplot(x='epoch', y ='accuracy', data =train_history)\n",
    "sns.lineplot(x='epoch', y ='val_accuracy', data =train_history)\n",
    "plt.legend(labels=['train_accuracy', 'val_accuracy'])"
   ]
  },
  {
   "cell_type": "markdown",
   "id": "01454bcd-c338-47e7-a83f-bcda77f57a9e",
   "metadata": {},
   "source": [
    "### Model 3 Results"
   ]
  },
  {
   "cell_type": "code",
   "execution_count": 52,
   "id": "f7aab770-1ccf-4f58-95e9-d26dac295e8b",
   "metadata": {},
   "outputs": [],
   "source": [
    "# compiling model\n",
    "model3.compile(loss=tf.keras.losses.SparseCategoricalCrossentropy(from_logits=True),\n",
    "              optimizer=tf.keras.optimizers.Adam(1e-4),\n",
    "              metrics=['accuracy'])"
   ]
  },
  {
   "cell_type": "code",
   "execution_count": 53,
   "id": "3afb2ffc-5b56-4023-8a0b-e0deee9e61b7",
   "metadata": {},
   "outputs": [
    {
     "name": "stdout",
     "output_type": "stream",
     "text": [
      "Epoch 1/3\n",
      "30000/30000 [==============================] - 10932s 364ms/step - loss: 0.4942 - accuracy: 0.7567 - val_loss: 0.4758 - val_accuracy: 0.7687\n",
      "Epoch 2/3\n",
      "30000/30000 [==============================] - 43056s 1s/step - loss: 0.4694 - accuracy: 0.7722 - val_loss: 0.4640 - val_accuracy: 0.7739\n",
      "Epoch 3/3\n",
      "30000/30000 [==============================] - 84630s 3s/step - loss: 0.4590 - accuracy: 0.7784 - val_loss: 0.4571 - val_accuracy: 0.7795\n"
     ]
    }
   ],
   "source": [
    "history3 = model3.fit(x=X_train,y=y_train,batch_size= 32,epochs=3,\n",
    "          validation_data=(X_val,y_val), verbose= 1\n",
    "          )"
   ]
  },
  {
   "cell_type": "code",
   "execution_count": 54,
   "id": "4b233913-2c14-439e-99d6-1785a6fa186e",
   "metadata": {},
   "outputs": [
    {
     "data": {
      "text/plain": [
       "<matplotlib.legend.Legend at 0x2701dd39700>"
      ]
     },
     "execution_count": 54,
     "metadata": {},
     "output_type": "execute_result"
    },
    {
     "data": {
      "image/png": "[encoded data removed]",
      "text/plain": [
       "<Figure size 432x288 with 1 Axes>"
      ]
     },
     "metadata": {
      "needs_background": "light"
     },
     "output_type": "display_data"
    }
   ],
   "source": [
    "# Plotting training versus validation loss\n",
    "train_history = pd.DataFrame(history3.history)\n",
    "train_history['epoch'] = history3.epoch\n",
    "sns.lineplot(x='epoch', y ='loss', data =train_history)\n",
    "sns.lineplot(x='epoch', y ='val_loss', data =train_history)\n",
    "plt.legend(labels=['train_loss', 'val_loss'])"
   ]
  },
  {
   "cell_type": "code",
   "execution_count": 55,
   "id": "59db9e79-1c16-4589-b5d5-a9cfe6478334",
   "metadata": {},
   "outputs": [
    {
     "data": {
      "text/plain": [
       "<matplotlib.legend.Legend at 0x2700e217430>"
      ]
     },
     "execution_count": 55,
     "metadata": {},
     "output_type": "execute_result"
    },
    {
     "data": {
      "image/png": "[encoded data removed]",
      "text/plain": [
       "<Figure size 432x288 with 1 Axes>"
      ]
     },
     "metadata": {
      "needs_background": "light"
     },
     "output_type": "display_data"
    }
   ],
   "source": [
    "# Plotting training versus validation accuracy\n",
    "sns.lineplot(x='epoch', y ='accuracy', data =train_history)\n",
    "sns.lineplot(x='epoch', y ='val_accuracy', data =train_history)\n",
    "plt.legend(labels=['train_accuracy', 'val_accuracy'])"
   ]
  },
  {
   "cell_type": "markdown",
   "id": "24b46de8-52ef-48f4-a6df-1c685154ff4e",
   "metadata": {},
   "source": [
    "### Model Analysis\n",
    "Looking at the validation data for these models, the third model achieves the highest validation accuracy and the lowest loss, although it is very close with only a few epochs. Unfortunately, due to the massive dataset, having further epochs run is somewhat time prohibitive, so my approach would probably be to use the third model with more epochs based on this data, as we can see that it is still underfit, with validation loss still decreasing and validation accuracy still increasing."
   ]
  }
 ],
 "metadata": {
  "kernelspec": {
   "display_name": "Python 3 (ipykernel)",
   "language": "python",
   "name": "python3"
  },
  "language_info": {
   "codemirror_mode": {
    "name": "ipython",
    "version": 3
   },
   "file_extension": ".py",
   "mimetype": "text/x-python",
   "name": "python",
   "nbconvert_exporter": "python",
   "pygments_lexer": "ipython3",
   "version": "3.9.7"
  }
 },
 "nbformat": 4,
 "nbformat_minor": 5
}
